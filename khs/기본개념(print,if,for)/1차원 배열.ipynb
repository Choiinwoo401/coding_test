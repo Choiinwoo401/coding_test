{
 "cells": [
  {
   "cell_type": "code",
   "execution_count": 9,
   "metadata": {},
   "outputs": [
    {
     "name": "stdout",
     "output_type": "stream",
     "text": [
      "0\n"
     ]
    }
   ],
   "source": [
    "n = int(input())\n",
    "listA = list(map(int,input().split()))\n",
    "v = int(input())\n",
    "\n",
    "print(listA.count(v))"
   ]
  },
  {
   "cell_type": "markdown",
   "metadata": {},
   "source": [
    "10807 : 개수 세기"
   ]
  },
  {
   "cell_type": "code",
   "execution_count": 16,
   "metadata": {},
   "outputs": [
    {
     "name": "stdout",
     "output_type": "stream",
     "text": [
      "1 4 2 3 "
     ]
    }
   ],
   "source": [
    "n, x = map(int, input().split())\n",
    "listA = list(map(int, input().split()))\n",
    "\n",
    "for i in range (n):\n",
    "    if listA[i]<x:\n",
    "        print(listA[i], end = \" \")"
   ]
  },
  {
   "cell_type": "markdown",
   "metadata": {},
   "source": [
    "10871 : X보다 작은 수\n",
    "어려웠음\n",
    "리스트 숫자 맞춰줄 것"
   ]
  },
  {
   "cell_type": "code",
   "execution_count": 17,
   "metadata": {},
   "outputs": [
    {
     "name": "stdout",
     "output_type": "stream",
     "text": [
      "7 35 "
     ]
    }
   ],
   "source": [
    "n = int(input())\n",
    "listA = list(map(int, input().split()))\n",
    "\n",
    "print(min(listA),max(listA),end=' ')"
   ]
  },
  {
   "cell_type": "markdown",
   "metadata": {},
   "source": [
    "10818 : 최소 최대\n",
    "최소값 최대값 구하는거 생각안나서 하나하나 비교할뻔"
   ]
  },
  {
   "cell_type": "code",
   "execution_count": 26,
   "metadata": {},
   "outputs": [
    {
     "name": "stdout",
     "output_type": "stream",
     "text": [
      "85\n",
      "8\n"
     ]
    }
   ],
   "source": [
    "listA = []\n",
    "for i in range(9):\n",
    "    listA.append(int(input()))\n",
    "print(max(listA))\n",
    "print(listA.index(max(listA))+1)"
   ]
  },
  {
   "cell_type": "markdown",
   "metadata": {},
   "source": [
    "2562 : 최댓값\n",
    "숫자 하나씩 더하고 빼는거 너무 헷갈림"
   ]
  },
  {
   "cell_type": "code",
   "execution_count": 46,
   "metadata": {},
   "outputs": [
    {
     "name": "stdout",
     "output_type": "stream",
     "text": [
      "1 2 1 1 0 "
     ]
    }
   ],
   "source": [
    "n, m = map(int, input().split())\n",
    "listA = [0 for x in range(n)]\n",
    "for x in range(m):\n",
    "    i, j, k = map(int, input().split())\n",
    "    for x in range(i-1,j):\n",
    "        listA[x] = k\n",
    "for x in range(n):\n",
    "    print(listA[x],end = ' ')"
   ]
  },
  {
   "cell_type": "markdown",
   "metadata": {},
   "source": [
    "10810 : 공넣기\n",
    "머리깨지는줄"
   ]
  },
  {
   "cell_type": "code",
   "execution_count": 54,
   "metadata": {},
   "outputs": [
    {
     "name": "stdout",
     "output_type": "stream",
     "text": [
      "3 1 4 2 5 "
     ]
    }
   ],
   "source": [
    "n, m = map(int, input().split())\n",
    "listA = [x for x in range(1, n+1)]\n",
    "for x in range(m):\n",
    "    i, j = map(int, input().split())\n",
    "    z = listA[i-1]\n",
    "    listA[i-1] = listA[j-1]\n",
    "    listA[j-1] = z\n",
    "for x in range(n):\n",
    "    print(listA[x], end = ' ')"
   ]
  },
  {
   "cell_type": "markdown",
   "metadata": {},
   "source": [
    "10813 : 공 바꾸기\n",
    "\n",
    "z = listA[i-1]\n",
    "listA[i-1] = listA[j-1]\n",
    "listA[j-1] = z\n",
    "=>\n",
    "listA[i-1], listA[j-1] = listA[j-1], listA[i-1]"
   ]
  },
  {
   "cell_type": "code",
   "execution_count": 56,
   "metadata": {},
   "outputs": [
    {
     "name": "stdout",
     "output_type": "stream",
     "text": [
      "2\n",
      "8\n"
     ]
    }
   ],
   "source": [
    "listA = [x for x in range(1, 31)]\n",
    "for x in range(28):\n",
    "    n = int(input())\n",
    "    listA.remove(n)\n",
    "print(min(listA))\n",
    "print(max(listA))"
   ]
  },
  {
   "cell_type": "markdown",
   "metadata": {},
   "source": [
    "5597 : 과제 안 내신 분..?"
   ]
  },
  {
   "cell_type": "code",
   "execution_count": 62,
   "metadata": {},
   "outputs": [
    {
     "name": "stdout",
     "output_type": "stream",
     "text": [
      "6\n"
     ]
    }
   ],
   "source": [
    "listA = []\n",
    "for x in range(10):\n",
    "    n = int(input())\n",
    "    if(n%42 not in listA):\n",
    "        listA.append(n%42)\n",
    "\n",
    "print(len(listA))"
   ]
  },
  {
   "cell_type": "markdown",
   "metadata": {},
   "source": [
    "3052 : 나머지"
   ]
  },
  {
   "cell_type": "code",
   "execution_count": 72,
   "metadata": {},
   "outputs": [
    {
     "name": "stdout",
     "output_type": "stream",
     "text": [
      "3 4 1 2 5 "
     ]
    }
   ],
   "source": [
    "n, m = map(int, input().split())\n",
    "\n",
    "listA = [x for x in range(1,n+1)]\n",
    "\n",
    "for x in range(m):\n",
    "    i, j = map(int, input().split())\n",
    "    listR = listA[i-1:j]\n",
    "    listR.reverse()\n",
    "    listA[i-1:j] = listR\n",
    "\n",
    "for i in range(n):\n",
    "    print(listA[i],end = ' ')"
   ]
  },
  {
   "cell_type": "markdown",
   "metadata": {},
   "source": [
    "10811 : 바구니 뒤집기\n",
    "리스트 슬라이싱후 역순 정렬"
   ]
  },
  {
   "cell_type": "code",
   "execution_count": 84,
   "metadata": {},
   "outputs": [
    {
     "name": "stdout",
     "output_type": "stream",
     "text": [
      "55.55555555555556\n"
     ]
    }
   ],
   "source": [
    "n = int(input())\n",
    "\n",
    "listA = list(map(int, input().split()))\n",
    "\n",
    "t = int(0)\n",
    "\n",
    "M = max(listA)\n",
    "\n",
    "for x in range(n):\n",
    "    listA[x] = listA[x]/M*100\n",
    "    t += listA[x]\n",
    "\n",
    "print(t/n)"
   ]
  },
  {
   "cell_type": "markdown",
   "metadata": {},
   "source": [
    "1546 : 평균"
   ]
  }
 ],
 "metadata": {
  "kernelspec": {
   "display_name": "base",
   "language": "python",
   "name": "python3"
  },
  "language_info": {
   "codemirror_mode": {
    "name": "ipython",
    "version": 3
   },
   "file_extension": ".py",
   "mimetype": "text/x-python",
   "name": "python",
   "nbconvert_exporter": "python",
   "pygments_lexer": "ipython3",
   "version": "3.10.9"
  }
 },
 "nbformat": 4,
 "nbformat_minor": 2
}
