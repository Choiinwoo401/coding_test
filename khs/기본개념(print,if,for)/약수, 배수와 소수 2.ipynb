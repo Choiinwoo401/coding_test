{
 "cells": [
  {
   "cell_type": "markdown",
   "metadata": {},
   "source": [
    "1934 : 최소공배수"
   ]
  },
  {
   "cell_type": "code",
   "execution_count": null,
   "metadata": {},
   "outputs": [],
   "source": [
    "import math, sys\n",
    "input = sys.stdin.readline\n",
    "T = int(input().rstrip())\n",
    "for i in range(T):\n",
    "    A, B = map(int, input().split())\n",
    "    print(math.lcm(A,B))"
   ]
  },
  {
   "cell_type": "markdown",
   "metadata": {},
   "source": [
    "13241 : 최소공배수"
   ]
  },
  {
   "cell_type": "code",
   "execution_count": null,
   "metadata": {},
   "outputs": [],
   "source": [
    "import math, sys\n",
    "input = sys.stdin.readline\n",
    "A, B = map(int, input().split())\n",
    "print(math.lcm(A,B))"
   ]
  },
  {
   "cell_type": "markdown",
   "metadata": {},
   "source": [
    "1735 : 분수 합"
   ]
  },
  {
   "cell_type": "code",
   "execution_count": 6,
   "metadata": {},
   "outputs": [
    {
     "name": "stdout",
     "output_type": "stream",
     "text": [
      "31 35\n"
     ]
    }
   ],
   "source": [
    "import math, sys\n",
    "input = sys.stdin.readline\n",
    "A, B = map(int, input().split())\n",
    "C, D = map(int, input().split())\n",
    "print((A*D+C*B)//math.gcd(A*D+C*B, B*D), (B*D)//math.gcd(A*D+C*B, B*D))"
   ]
  },
  {
   "cell_type": "markdown",
   "metadata": {},
   "source": [
    "2485 : 가로수"
   ]
  },
  {
   "cell_type": "code",
   "execution_count": 2,
   "metadata": {},
   "outputs": [
    {
     "name": "stdout",
     "output_type": "stream",
     "text": [
      "5\n"
     ]
    }
   ],
   "source": [
    "import math, sys\n",
    "input = sys.stdin.readline\n",
    "N = int(input().strip())\n",
    "a = int(input().strip())\n",
    "array1 = []\n",
    "\n",
    "for i in range(N-1):\n",
    "    num = int(input().strip())\n",
    "    array1.append(num-a)\n",
    "    a = num\n",
    "\n",
    "g = array1[0]\n",
    "for j in range(1, len(array1)):\n",
    "    g = math.gcd(g, array1[j])\n",
    "\n",
    "result = 0\n",
    "for each in array1:\n",
    "    result += each // g- 1\n",
    "print(result)"
   ]
  },
  {
   "cell_type": "markdown",
   "metadata": {},
   "source": [
    "4134 : 다음 소수"
   ]
  },
  {
   "cell_type": "code",
   "execution_count": 6,
   "metadata": {},
   "outputs": [
    {
     "name": "stdout",
     "output_type": "stream",
     "text": [
      "7\n",
      "11\n",
      "11\n"
     ]
    }
   ],
   "source": [
    "import sys\n",
    "input = sys.stdin.readline\n",
    "N = int(input())\n",
    "\n",
    "def check(x):\n",
    "    for i in range(2, int(x**0.5)+1):\n",
    "        if x%i == 0:\n",
    "            return False\n",
    "    return True\n",
    "\n",
    "for i in range(N):\n",
    "    n = int(input())\n",
    "    while True:\n",
    "        if n==0 or n==1:\n",
    "            print(2)\n",
    "            break\n",
    "        elif check(n):\n",
    "            print(n)\n",
    "            break\n",
    "        else:\n",
    "            n+=1"
   ]
  }
 ],
 "metadata": {
  "kernelspec": {
   "display_name": "base",
   "language": "python",
   "name": "python3"
  },
  "language_info": {
   "codemirror_mode": {
    "name": "ipython",
    "version": 3
   },
   "file_extension": ".py",
   "mimetype": "text/x-python",
   "name": "python",
   "nbconvert_exporter": "python",
   "pygments_lexer": "ipython3",
   "version": "3.10.9"
  }
 },
 "nbformat": 4,
 "nbformat_minor": 2
}
