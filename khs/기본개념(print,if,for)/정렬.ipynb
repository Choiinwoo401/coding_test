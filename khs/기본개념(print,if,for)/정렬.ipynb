{
 "cells": [
  {
   "cell_type": "markdown",
   "metadata": {},
   "source": [
    "2750 : 수 정렬하기"
   ]
  },
  {
   "cell_type": "code",
   "execution_count": 1,
   "metadata": {},
   "outputs": [
    {
     "name": "stdout",
     "output_type": "stream",
     "text": [
      "1\n",
      "2\n",
      "3\n",
      "4\n",
      "5\n"
     ]
    }
   ],
   "source": [
    "N = int(input())\n",
    "list1 = []\n",
    "for i in range(N):\n",
    "    list1.append(int(input()))\n",
    "list1.sort()\n",
    "for i in range(N):\n",
    "    print(list1[i])"
   ]
  },
  {
   "cell_type": "markdown",
   "metadata": {},
   "source": [
    "2587 : 대표값2"
   ]
  },
  {
   "cell_type": "code",
   "execution_count": 2,
   "metadata": {},
   "outputs": [
    {
     "name": "stdout",
     "output_type": "stream",
     "text": [
      "34\n",
      "30\n"
     ]
    }
   ],
   "source": [
    "list1 = []\n",
    "for i in range(5):\n",
    "    list1.append(int(input()))\n",
    "list1.sort()\n",
    "print(int(sum(list1)/5))\n",
    "print(list1[2])"
   ]
  },
  {
   "cell_type": "markdown",
   "metadata": {},
   "source": [
    "25305 : 커트라인"
   ]
  },
  {
   "cell_type": "code",
   "execution_count": 25,
   "metadata": {},
   "outputs": [
    {
     "name": "stdout",
     "output_type": "stream",
     "text": [
      "98\n"
     ]
    }
   ],
   "source": [
    "N, k = map(int, input().split())\n",
    "list1 = list(map(int,input().split()))\n",
    "list1.sort()\n",
    "print(list1[-k])"
   ]
  },
  {
   "cell_type": "markdown",
   "metadata": {},
   "source": [
    "2751 : 수 정렬하기 2"
   ]
  },
  {
   "cell_type": "code",
   "execution_count": 26,
   "metadata": {},
   "outputs": [
    {
     "name": "stdout",
     "output_type": "stream",
     "text": [
      "1\n",
      "2\n",
      "3\n",
      "4\n",
      "5\n"
     ]
    }
   ],
   "source": [
    "import sys\n",
    "N = int(input())\n",
    "list1 = []\n",
    "for i in range(N):\n",
    "    list1.append(int(sys.stdin.readline()))\n",
    "list1.sort()\n",
    "for i in range(N):\n",
    "    print(list1[i])"
   ]
  },
  {
   "cell_type": "markdown",
   "metadata": {},
   "source": [
    "10989 : 수 정렬하기 3"
   ]
  },
  {
   "cell_type": "code",
   "execution_count": 27,
   "metadata": {},
   "outputs": [],
   "source": [
    "import sys\n",
    "input = sys.stdin.readline\n",
    "N = int(input())\n",
    "array1 = [0] * (10000 + 1)\n",
    "for i in range(N):\n",
    "    array1[int(input())] += 1\n",
    "for i in range(len(array1)):\n",
    "    if array1[i] != 0:\n",
    "        for j in range(array1[i]):\n",
    "            print(i)"
   ]
  },
  {
   "cell_type": "markdown",
   "metadata": {},
   "source": [
    "1427 : 소트 인사이드"
   ]
  },
  {
   "cell_type": "code",
   "execution_count": 21,
   "metadata": {},
   "outputs": [
    {
     "name": "stdout",
     "output_type": "stream",
     "text": [
      "4321"
     ]
    }
   ],
   "source": [
    "import sys\n",
    "input = sys.stdin.readline\n",
    "N = int(input())\n",
    "list1 = list(map(int,str(N)))\n",
    "list1.sort(reverse=True)\n",
    "for i in list1:\n",
    "    print(i,end='')"
   ]
  },
  {
   "cell_type": "markdown",
   "metadata": {},
   "source": [
    "11650 : 좌표 정렬하기"
   ]
  },
  {
   "cell_type": "code",
   "execution_count": 31,
   "metadata": {},
   "outputs": [
    {
     "name": "stdout",
     "output_type": "stream",
     "text": [
      "1 -1\n",
      "1 1\n",
      "2 2\n",
      "3 3\n",
      "3 4\n"
     ]
    }
   ],
   "source": [
    "import sys\n",
    "input = sys.stdin.readline\n",
    "N = int(input())\n",
    "array1 = []\n",
    "for i in range(N):\n",
    "    x, y = map(int, input().split())\n",
    "    array1.append([x,y])\n",
    "array1.sort()\n",
    "for i in range(len(array1)):\n",
    "    print(*array1[i])"
   ]
  },
  {
   "cell_type": "markdown",
   "metadata": {},
   "source": [
    "11651 : 좌표 정렬하기 2"
   ]
  },
  {
   "cell_type": "code",
   "execution_count": 33,
   "metadata": {},
   "outputs": [
    {
     "name": "stdout",
     "output_type": "stream",
     "text": [
      "1 -1\n",
      "1 2\n",
      "2 2\n",
      "3 3\n",
      "0 4\n"
     ]
    }
   ],
   "source": [
    "import sys\n",
    "input = sys.stdin.readline\n",
    "N = int(input())\n",
    "array1 = []\n",
    "for i in range(N):\n",
    "    x, y = map(int, input().split())\n",
    "    array1.append([y,x])\n",
    "array1.sort()\n",
    "for y,x in array1:\n",
    "    print(x, y)"
   ]
  },
  {
   "cell_type": "markdown",
   "metadata": {},
   "source": [
    "1181 : 단어 정렬"
   ]
  },
  {
   "cell_type": "code",
   "execution_count": 44,
   "metadata": {},
   "outputs": [
    {
     "name": "stdout",
     "output_type": "stream",
     "text": [
      "i\n",
      "im\n",
      "it\n",
      "no\n",
      "but\n",
      "more\n",
      "wait\n",
      "wont\n",
      "yours\n",
      "cannot\n",
      "hesitate\n"
     ]
    }
   ],
   "source": [
    "import sys\n",
    "N = int(input())\n",
    "array1 = [sys.stdin.readline().rstrip() for i in range(N)]\n",
    "array1 = list(set(array1))\n",
    "array1.sort()\n",
    "array1.sort(key=len)\n",
    "for i in array1:\n",
    "    print(i)"
   ]
  },
  {
   "cell_type": "markdown",
   "metadata": {},
   "source": [
    "10814 : 나이 순 정렬"
   ]
  },
  {
   "cell_type": "code",
   "execution_count": 61,
   "metadata": {},
   "outputs": [
    {
     "name": "stdout",
     "output_type": "stream",
     "text": [
      "20 b\n",
      "21 a\n",
      "21 c\n"
     ]
    }
   ],
   "source": [
    "import sys\n",
    "N = int(input())\n",
    "array1 = [list(map(str, sys.stdin.readline().split())) for i in range(N)]\n",
    "array1.sort(key = lambda x : int(x[0]))\n",
    "for i in array1:\n",
    "    print(i[0], i[1])"
   ]
  },
  {
   "cell_type": "markdown",
   "metadata": {},
   "source": [
    "18870 : 좌표 압축"
   ]
  },
  {
   "cell_type": "code",
   "execution_count": 90,
   "metadata": {},
   "outputs": [
    {
     "name": "stdout",
     "output_type": "stream",
     "text": [
      "[2, 4, 6, 9, 6]\n",
      "[2, 4, 6, 9]\n",
      "{2: 0, 4: 1, 6: 2, 9: 3}\n",
      "0 1 2 3 2 "
     ]
    }
   ],
   "source": [
    "import sys\n",
    "N = int(input())\n",
    "array1 = list(map(int, sys.stdin.readline().split()))\n",
    "array2 = sorted(list(set(array1)))\n",
    "dic1 = {array2[i] : i for i in range(len(array2))}\n",
    "for i in array1:\n",
    "    print(dic1[i],end = ' ')"
   ]
  }
 ],
 "metadata": {
  "kernelspec": {
   "display_name": "base",
   "language": "python",
   "name": "python3"
  },
  "language_info": {
   "codemirror_mode": {
    "name": "ipython",
    "version": 3
   },
   "file_extension": ".py",
   "mimetype": "text/x-python",
   "name": "python",
   "nbconvert_exporter": "python",
   "pygments_lexer": "ipython3",
   "version": "3.10.9"
  }
 },
 "nbformat": 4,
 "nbformat_minor": 2
}
