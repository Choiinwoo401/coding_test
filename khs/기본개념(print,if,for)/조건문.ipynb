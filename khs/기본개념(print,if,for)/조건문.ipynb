{
 "cells": [
  {
   "cell_type": "code",
   "execution_count": 14,
   "metadata": {},
   "outputs": [
    {
     "name": "stdout",
     "output_type": "stream",
     "text": [
      "0\n"
     ]
    }
   ],
   "source": [
    "a = int(input())\n",
    "if ((a%4 == 0) and (a%100 != 0)):\n",
    "    print(\"1\")\n",
    "elif (a%400 == 0):\n",
    "    print(\"1\")\n",
    "else :\n",
    "    print(\"0\")\n"
   ]
  },
  {
   "cell_type": "markdown",
   "metadata": {},
   "source": [
    "2753번 : 윤년"
   ]
  },
  {
   "cell_type": "code",
   "execution_count": 4,
   "metadata": {},
   "outputs": [
    {
     "name": "stdout",
     "output_type": "stream",
     "text": [
      "4\n"
     ]
    }
   ],
   "source": [
    "a = int(input())\n",
    "b = int(input())\n",
    "if (a>0):\n",
    "    if (b>0):\n",
    "        print('1')\n",
    "    else:\n",
    "        print('4')\n",
    "else:\n",
    "    if (b>0):\n",
    "        print('2')\n",
    "    else:\n",
    "        print('3')"
   ]
  },
  {
   "cell_type": "markdown",
   "metadata": {},
   "source": [
    "14681번 : 사분면 고르기\n",
    "최대한 코드를 간결하게 할 것\n",
    "else로 할 수 있으면 해라."
   ]
  },
  {
   "cell_type": "code",
   "execution_count": 3,
   "metadata": {},
   "outputs": [
    {
     "name": "stdout",
     "output_type": "stream",
     "text": [
      "9 25\n"
     ]
    }
   ],
   "source": [
    "hour1, min1 = map(int, input().split())\n",
    "if (min1<45):\n",
    "    if(hour1==0):\n",
    "        hour2 = 23\n",
    "        min2 = min1+15\n",
    "    else:\n",
    "        hour2 = hour1-1\n",
    "        min2 = min1+15\n",
    "else:\n",
    "    hour2 = hour1\n",
    "    min2 = min1-45\n",
    "\n",
    "print(hour2, min2)"
   ]
  },
  {
   "cell_type": "markdown",
   "metadata": {},
   "source": [
    "2884번 : 알람 시계"
   ]
  },
  {
   "cell_type": "code",
   "execution_count": 5,
   "metadata": {},
   "outputs": [
    {
     "name": "stdout",
     "output_type": "stream",
     "text": [
      "19 0\n"
     ]
    }
   ],
   "source": [
    "hour1, min1 = map(int, input().split())\n",
    "time1 = int(input())\n",
    "if (time1>60):\n",
    "    hour2 = (hour1+(time1//60))\n",
    "    min2 = (min1+(time1%60))\n",
    "\n",
    "else:\n",
    "    hour2 = hour1\n",
    "    min2 = min1 + time1\n",
    "\n",
    "if (min2>=60):\n",
    "    min2-=60\n",
    "    hour2+=1\n",
    "if (hour2>=24):\n",
    "    hour2-=24\n",
    "\n",
    "print(hour2,min2)"
   ]
  },
  {
   "cell_type": "markdown",
   "metadata": {},
   "source": [
    "2525번 : 오븐 시계\n",
    "변수명도 확 보이도록 시분초로 바꿀것"
   ]
  },
  {
   "cell_type": "code",
   "execution_count": 41,
   "metadata": {},
   "outputs": [
    {
     "name": "stdout",
     "output_type": "stream",
     "text": [
      "600\n"
     ]
    }
   ],
   "source": [
    "a, b, c = map(int, input().split())\n",
    "if (a==b==c):\n",
    "    d = 10000+a*1000\n",
    "elif((a==b)or(b==c)or(a==c)):\n",
    "    if (a==b) :\n",
    "        d = 1000+a*100\n",
    "    elif (b==c):\n",
    "        d = 1000+b*100\n",
    "    else:\n",
    "        d = 1000+c*100\n",
    "else :\n",
    "    if (a<b):\n",
    "        if (b<c):\n",
    "            d = c*100\n",
    "        else:\n",
    "            d = b*100\n",
    "    elif (a>b):\n",
    "        if (a>c):\n",
    "            d = a*100\n",
    "        else:\n",
    "            d = c*100\n",
    "\n",
    "print (d)"
   ]
  },
  {
   "cell_type": "markdown",
   "metadata": {},
   "source": [
    "2480번 : 주사위 세개\n",
    "두번째 elif를 순서바꿔서 else로 돌리는게 간편."
   ]
  }
 ],
 "metadata": {
  "kernelspec": {
   "display_name": "base",
   "language": "python",
   "name": "python3"
  },
  "language_info": {
   "codemirror_mode": {
    "name": "ipython",
    "version": 3
   },
   "file_extension": ".py",
   "mimetype": "text/x-python",
   "name": "python",
   "nbconvert_exporter": "python",
   "pygments_lexer": "ipython3",
   "version": "3.10.9"
  }
 },
 "nbformat": 4,
 "nbformat_minor": 2
}
