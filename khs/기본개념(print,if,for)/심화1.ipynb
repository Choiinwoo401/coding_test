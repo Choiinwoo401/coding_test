{
 "cells": [
  {
   "cell_type": "markdown",
   "metadata": {},
   "source": [
    "25083 : 새싹"
   ]
  },
  {
   "cell_type": "code",
   "execution_count": 2,
   "metadata": {},
   "outputs": [
    {
     "name": "stdout",
     "output_type": "stream",
     "text": [
      "         ,r'\"7\n",
      "r`-_   ,'  ,/\n",
      " \\. \". L_r'\n",
      "   `~\\/\n",
      "      |\n",
      "      |\n"
     ]
    }
   ],
   "source": [
    "print(\"         ,r'\\\"7\")\n",
    "print(\"r`-_   ,'  ,/\")\n",
    "print(\" \\. \\\". L_r'\")\n",
    "print(\"   `~\\/\")\n",
    "print(\"      |\")\n",
    "print(\"      |\")"
   ]
  },
  {
   "cell_type": "markdown",
   "metadata": {},
   "source": [
    "3003 : 킹, 퀸, 룩, 비숍, 나이트, 폰"
   ]
  },
  {
   "cell_type": "code",
   "execution_count": 5,
   "metadata": {},
   "outputs": [
    {
     "name": "stdout",
     "output_type": "stream",
     "text": [
      "-1 0 0 1 0 7\n"
     ]
    }
   ],
   "source": [
    "king, queen, rook, bishop, knight, pawn = map(int, input().split())\n",
    "# 1, 1, 2, 2, 2, 8\n",
    "print(1-king, 1-queen, 2-rook, 2-bishop, 2-knight, 8-pawn)"
   ]
  },
  {
   "cell_type": "markdown",
   "metadata": {},
   "source": [
    "2444 : 별 찍기 - 7"
   ]
  },
  {
   "cell_type": "code",
   "execution_count": 13,
   "metadata": {},
   "outputs": [
    {
     "name": "stdout",
     "output_type": "stream",
     "text": [
      "   *\n",
      "  ***\n",
      " *****\n",
      "*******\n",
      " *****\n",
      "  ***\n",
      "   *\n"
     ]
    }
   ],
   "source": [
    "N = int(input())\n",
    "A = 2*N-1\n",
    "for i in range(A):\n",
    "    if (i<=A//2):\n",
    "        print(' '*((A-(2*i+1))//2) + '*'*(2*i+1))\n",
    "    else:\n",
    "        print(' '*(((2*i+1)-A)//2) + '*'*(A-2*(i-(A//2))))"
   ]
  },
  {
   "cell_type": "markdown",
   "metadata": {},
   "source": [
    "10988 : 팰린드롬인지 확인하기"
   ]
  },
  {
   "cell_type": "code",
   "execution_count": 15,
   "metadata": {},
   "outputs": [
    {
     "name": "stdout",
     "output_type": "stream",
     "text": [
      "0\n"
     ]
    }
   ],
   "source": [
    "s = input()\n",
    "r = s[::-1]\n",
    "if (s==r):\n",
    "    print('1')\n",
    "else:\n",
    "    print('0')"
   ]
  },
  {
   "cell_type": "markdown",
   "metadata": {},
   "source": [
    "1157 : 단어 공부"
   ]
  },
  {
   "cell_type": "code",
   "execution_count": 45,
   "metadata": {},
   "outputs": [
    {
     "name": "stdout",
     "output_type": "stream",
     "text": [
      "C\n"
     ]
    }
   ],
   "source": [
    "S = input()\n",
    "S = S.upper()\n",
    "setS = set(S)\n",
    "setS = list(setS)\n",
    "M = 0\n",
    "# print(setS)\n",
    "for i in setS:\n",
    "    if (S.count(i)>M):\n",
    "        M = S.count(i)\n",
    "        Maxalphabet = i\n",
    "        N = 0\n",
    "    elif (S.count(i)==M):\n",
    "        N = '?'\n",
    "if (N == '?'):\n",
    "    print(N)\n",
    "else:\n",
    "    print(Maxalphabet)"
   ]
  },
  {
   "cell_type": "markdown",
   "metadata": {},
   "source": [
    "2941 : 크로아티아 알파벳"
   ]
  },
  {
   "cell_type": "code",
   "execution_count": 63,
   "metadata": {},
   "outputs": [
    {
     "name": "stdout",
     "output_type": "stream",
     "text": [
      "3\n"
     ]
    }
   ],
   "source": [
    "S = input()\n",
    "S = S.replace('c=', '1')\n",
    "S = S.replace('c-', '2')\n",
    "S = S.replace('dz=', '3')\n",
    "S = S.replace('d-', '4')\n",
    "S = S.replace('lj', '5')\n",
    "S = S.replace('nj', '6')\n",
    "S = S.replace('s=', '7')\n",
    "S = S.replace('z=', '8')\n",
    "print(len(S))"
   ]
  },
  {
   "cell_type": "markdown",
   "metadata": {},
   "source": [
    "1316 : 그룹 단어 체커"
   ]
  },
  {
   "cell_type": "code",
   "execution_count": 83,
   "metadata": {},
   "outputs": [
    {
     "name": "stdout",
     "output_type": "stream",
     "text": [
      "3\n"
     ]
    }
   ],
   "source": [
    "N = int(input())\n",
    "G = N\n",
    "for i in range(N):\n",
    "    name = input()\n",
    "    for j in range(len(name)-1):\n",
    "        if name[j] == name[j+1]:\n",
    "            pass\n",
    "        elif name[j] in name[j+1:]:\n",
    "            G -= 1\n",
    "            break\n",
    "print(G)"
   ]
  },
  {
   "cell_type": "markdown",
   "metadata": {},
   "source": [
    "25206 : 너의 평점은"
   ]
  },
  {
   "cell_type": "code",
   "execution_count": 73,
   "metadata": {},
   "outputs": [
    {
     "name": "stdout",
     "output_type": "stream",
     "text": [
      "3.2844827586206895\n"
     ]
    }
   ],
   "source": [
    "T = 0\n",
    "TP = 0\n",
    "for i in range(20):\n",
    "    name, point, grade = map(str, input().split())\n",
    "    point = float(point)\n",
    "    if (grade == 'A+'):\n",
    "        T += point*(4.5)\n",
    "        TP += point\n",
    "    elif (grade == 'A0'):\n",
    "        T += point*(4.0)\n",
    "        TP += point\n",
    "    elif (grade == 'B+'):\n",
    "        T += point*(3.5)\n",
    "        TP += point\n",
    "    elif (grade == 'B0'):\n",
    "        T += point*(3.0)\n",
    "        TP += point\n",
    "    elif (grade == 'C+'):\n",
    "        T += point*(2.5)\n",
    "        TP += point\n",
    "    elif (grade == 'C0'):\n",
    "        T += point*(2.0)\n",
    "        TP += point\n",
    "    elif (grade == 'D+'):\n",
    "        T += point*(1.5)\n",
    "        TP += point\n",
    "    elif (grade == 'D0'):\n",
    "        T += point*(1.0)\n",
    "        TP += point\n",
    "    elif (grade == 'F'):\n",
    "        T += point*(0.0)\n",
    "        TP += point\n",
    "    else:\n",
    "        pass\n",
    "\n",
    "print(T/TP)"
   ]
  }
 ],
 "metadata": {
  "kernelspec": {
   "display_name": "base",
   "language": "python",
   "name": "python3"
  },
  "language_info": {
   "codemirror_mode": {
    "name": "ipython",
    "version": 3
   },
   "file_extension": ".py",
   "mimetype": "text/x-python",
   "name": "python",
   "nbconvert_exporter": "python",
   "pygments_lexer": "ipython3",
   "version": "3.10.9"
  }
 },
 "nbformat": 4,
 "nbformat_minor": 2
}
