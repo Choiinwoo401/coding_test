{
 "cells": [
  {
   "cell_type": "markdown",
   "metadata": {},
   "source": [
    "2745 : 진법 변환"
   ]
  },
  {
   "cell_type": "code",
   "execution_count": 9,
   "metadata": {},
   "outputs": [
    {
     "name": "stdout",
     "output_type": "stream",
     "text": [
      "60466175\n"
     ]
    }
   ],
   "source": [
    "N, B = input().split()\n",
    "print(int(str(N), int(B)))"
   ]
  },
  {
   "cell_type": "markdown",
   "metadata": {},
   "source": [
    "11005 : 진법 변환 2"
   ]
  },
  {
   "cell_type": "code",
   "execution_count": 16,
   "metadata": {},
   "outputs": [
    {
     "name": "stdout",
     "output_type": "stream",
     "text": [
      "ZZZZZ\n"
     ]
    }
   ],
   "source": [
    "N, B = map(int, input().split())\n",
    "answer = ''\n",
    "array = '0123456789ABCDEFGHIJKLMNOPQRSTUVWXYZ'\n",
    "while N:\n",
    "    answer += str(array[N % B])\n",
    "    N //= B\n",
    "\n",
    "print(answer[::-1])"
   ]
  },
  {
   "cell_type": "markdown",
   "metadata": {},
   "source": [
    "2720 : 세탁소 사장 동혁"
   ]
  },
  {
   "cell_type": "code",
   "execution_count": 18,
   "metadata": {},
   "outputs": [
    {
     "name": "stdout",
     "output_type": "stream",
     "text": [
      "4 2 0 4\n",
      "1 0 0 0\n",
      "7 1 1 4\n"
     ]
    }
   ],
   "source": [
    "T = int(input())\n",
    "for i in range(T):\n",
    "    C = int(input())\n",
    "    Quarter = C // 25\n",
    "    C = C % 25\n",
    "    Dime = C // 10\n",
    "    C = C % 10\n",
    "    Nickel = C // 5\n",
    "    C = C % 5\n",
    "    Penny = C\n",
    "    print(f\"{Quarter} {Dime} {Nickel} {Penny}\")"
   ]
  },
  {
   "cell_type": "markdown",
   "metadata": {},
   "source": [
    "2903 : 중앙 이동 알고리즘"
   ]
  },
  {
   "cell_type": "code",
   "execution_count": 22,
   "metadata": {},
   "outputs": [
    {
     "name": "stdout",
     "output_type": "stream",
     "text": [
      "1089\n"
     ]
    }
   ],
   "source": [
    "N = int(input())\n",
    "print(((2**N)+1)**2)"
   ]
  },
  {
   "cell_type": "markdown",
   "metadata": {},
   "source": [
    "2292 : 벌집"
   ]
  },
  {
   "cell_type": "code",
   "execution_count": null,
   "metadata": {},
   "outputs": [],
   "source": [
    "N = int(input())\n",
    "loop = 1\n",
    "count = 1\n",
    "while N > loop:\n",
    "    loop += 6 * count\n",
    "    count += 1\n",
    "print(count)"
   ]
  },
  {
   "cell_type": "markdown",
   "metadata": {},
   "source": [
    "1193 : 분수 찾기"
   ]
  },
  {
   "cell_type": "code",
   "execution_count": 24,
   "metadata": {},
   "outputs": [
    {
     "name": "stdout",
     "output_type": "stream",
     "text": [
      "1/4\n"
     ]
    }
   ],
   "source": [
    "N = int(input())\n",
    "line = 1\n",
    "while N > line:\n",
    "    N -= line\n",
    "    line += 1\n",
    "\n",
    "if line % 2 == 0:\n",
    "    a = N\n",
    "    b = line - N + 1\n",
    "else :\n",
    "    a = line - N + 1\n",
    "    b = N\n",
    "    \n",
    "print(f'{a}/{b}')"
   ]
  },
  {
   "cell_type": "markdown",
   "metadata": {},
   "source": [
    "2869 : 달팽이는 올라가고 싶다"
   ]
  },
  {
   "cell_type": "code",
   "execution_count": 37,
   "metadata": {},
   "outputs": [
    {
     "name": "stdout",
     "output_type": "stream",
     "text": [
      "999999901\n"
     ]
    }
   ],
   "source": [
    "A, B, V = map(int, input().split())\n",
    "# Ax - B(x-1) = V\n",
    "# Ax - Bx + B = V\n",
    "# x(A - B) = V - B\n",
    "x = (V - B) / (A - B)\n",
    "if x == int(x):\n",
    "    print(int(x))\n",
    "else:\n",
    "    print(int(x)+1)"
   ]
  }
 ],
 "metadata": {
  "kernelspec": {
   "display_name": "base",
   "language": "python",
   "name": "python3"
  },
  "language_info": {
   "codemirror_mode": {
    "name": "ipython",
    "version": 3
   },
   "file_extension": ".py",
   "mimetype": "text/x-python",
   "name": "python",
   "nbconvert_exporter": "python",
   "pygments_lexer": "ipython3",
   "version": "3.10.9"
  }
 },
 "nbformat": 4,
 "nbformat_minor": 2
}
