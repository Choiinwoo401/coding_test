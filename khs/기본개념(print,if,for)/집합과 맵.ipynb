{
 "cells": [
  {
   "cell_type": "markdown",
   "metadata": {},
   "source": [
    "10815 : 숫자 카드"
   ]
  },
  {
   "cell_type": "code",
   "execution_count": 4,
   "metadata": {},
   "outputs": [
    {
     "name": "stdout",
     "output_type": "stream",
     "text": [
      "1 0 0 1 1 0 0 1 "
     ]
    }
   ],
   "source": [
    "import sys\n",
    "input = sys.stdin.readline\n",
    "\n",
    "N = int(input())\n",
    "array1 = list(map(int, input().split()))\n",
    "M = int(input())\n",
    "array2 = list(map(int, input().split()))\n",
    "\n",
    "dict1 = {}\n",
    "for i in range(N):\n",
    "    dict1[array1[i]] = 0\n",
    "\n",
    "for i in range(M):\n",
    "    if(array2[i] in dict1):\n",
    "        print(1,end = ' ')\n",
    "    else:\n",
    "        print(0,end = ' ')"
   ]
  },
  {
   "cell_type": "markdown",
   "metadata": {},
   "source": [
    "14425 : 문자열 집합"
   ]
  },
  {
   "cell_type": "code",
   "execution_count": 5,
   "metadata": {},
   "outputs": [
    {
     "name": "stdout",
     "output_type": "stream",
     "text": [
      "4\n"
     ]
    }
   ],
   "source": [
    "import sys\n",
    "input = sys.stdin.readline\n",
    "N, M = map(int, input().split())\n",
    "array1 = []\n",
    "cnt = 0\n",
    "for i in range(N):\n",
    "    array1.append(input())\n",
    "for j in range(M):\n",
    "    if input() in array1:\n",
    "        cnt += 1\n",
    "print(cnt)"
   ]
  },
  {
   "cell_type": "markdown",
   "metadata": {},
   "source": [
    "7785 : 회사에 있는 사람"
   ]
  },
  {
   "cell_type": "code",
   "execution_count": 9,
   "metadata": {},
   "outputs": [
    {
     "name": "stdout",
     "output_type": "stream",
     "text": [
      "askar\n",
      "artem\n"
     ]
    }
   ],
   "source": [
    "import sys\n",
    "input = sys.stdin.readline\n",
    "n = int(input())\n",
    "dict1 = {}\n",
    "for i in range(n):\n",
    "    name, ent = list(map(str, input().split()))\n",
    "    if ent == 'enter':\n",
    "        dict1[name] = 1\n",
    "    elif ent == 'leave':\n",
    "        del dict1[name]\n",
    "dict1 = sorted(dict1,reverse= True)\n",
    "for key in dict1:\n",
    "    print(key)"
   ]
  },
  {
   "cell_type": "markdown",
   "metadata": {},
   "source": [
    "1620 : 나는야 포켓몬 마스터 이다솜"
   ]
  },
  {
   "cell_type": "code",
   "execution_count": null,
   "metadata": {},
   "outputs": [],
   "source": [
    "import sys\n",
    "input = sys.stdin.readline\n",
    "N, M = map(int, input().split())\n",
    "dict1 = {}\n",
    "for i in range(1,N+1):\n",
    "    name = input().strip()\n",
    "    dict1[name] = i\n",
    "    dict1[i] = name\n",
    "for i in range(M):\n",
    "    quest = input().strip()\n",
    "    if quest.isdigit() == True:\n",
    "        print(dict1[int(quest)])\n",
    "    else:\n",
    "        print(dict1[str(quest)])"
   ]
  },
  {
   "cell_type": "markdown",
   "metadata": {},
   "source": [
    "10816 : 숫자 카드 2"
   ]
  },
  {
   "cell_type": "code",
   "execution_count": 19,
   "metadata": {},
   "outputs": [
    {
     "name": "stdout",
     "output_type": "stream",
     "text": [
      "3 0 0 1 2 0 0 2 "
     ]
    }
   ],
   "source": [
    "import sys\n",
    "input = sys.stdin.readline\n",
    "N = int(input().strip())\n",
    "array1 = list(map(int, input().split()))\n",
    "M = int(input().strip())\n",
    "array2 = list(map(int, input().split()))\n",
    "dict1 = {}\n",
    "\n",
    "for i in array1:\n",
    "    if i not in dict1:\n",
    "        dict1[i] = 1\n",
    "    else:\n",
    "        dict1[i] += 1\n",
    "\n",
    "for j in array2:\n",
    "    if j not in dict1:\n",
    "        print(0,end = ' ')\n",
    "    else:\n",
    "        print(dict1[j],end = ' ')"
   ]
  },
  {
   "cell_type": "markdown",
   "metadata": {},
   "source": [
    "1764 : 듣보잡"
   ]
  },
  {
   "cell_type": "code",
   "execution_count": 22,
   "metadata": {},
   "outputs": [
    {
     "name": "stdout",
     "output_type": "stream",
     "text": [
      "2\n",
      "ba\n",
      "oh\n"
     ]
    }
   ],
   "source": [
    "import sys\n",
    "input = sys.stdin.readline\n",
    "N, M = map(int, input().split())\n",
    "dict1 = {}\n",
    "dict2 = {}\n",
    "for i in range(N):\n",
    "    dict1[str(input().rstrip())] = 1\n",
    "for j in range(M):\n",
    "    dict2[str(input().rstrip())] = 1\n",
    "dict3 = {}\n",
    "for k in dict1:\n",
    "    if k in dict2:\n",
    "        dict3.update({k:1})\n",
    "dict3 = sorted(dict3)\n",
    "print(len(dict3))\n",
    "for l in dict3:\n",
    "    print(l)"
   ]
  },
  {
   "cell_type": "markdown",
   "metadata": {},
   "source": [
    "1269 : 대칭 차집합"
   ]
  },
  {
   "cell_type": "code",
   "execution_count": 34,
   "metadata": {},
   "outputs": [
    {
     "name": "stdout",
     "output_type": "stream",
     "text": [
      "4\n"
     ]
    }
   ],
   "source": [
    "import sys\n",
    "input = sys.stdin.readline\n",
    "lenA, lenB = map(int, input().split())\n",
    "A = {x:0 for x in list(map(int, input().split()))}\n",
    "B = {x:0 for x in list(map(int, input().split()))}\n",
    "difAB = {}\n",
    "difBA = {}\n",
    "result = {}\n",
    "\n",
    "for i in A:\n",
    "    if i not in B:\n",
    "        difAB[i] = 0\n",
    "for j in B:\n",
    "    if j not in A:\n",
    "        difBA[j] = 0\n",
    "\n",
    "for k in difAB:\n",
    "    result[k] = 0\n",
    "for l in difBA:\n",
    "    result[l] = 0\n",
    "\n",
    "print(len(result))"
   ]
  },
  {
   "cell_type": "markdown",
   "metadata": {},
   "source": [
    "11478 : 서로 다른 부분 문자열의 개수"
   ]
  },
  {
   "cell_type": "code",
   "execution_count": 39,
   "metadata": {},
   "outputs": [
    {
     "name": "stdout",
     "output_type": "stream",
     "text": [
      "12\n"
     ]
    }
   ],
   "source": [
    "import sys\n",
    "input = sys.stdin.readline\n",
    "S = input().rstrip()\n",
    "result = set()\n",
    "for i in range(len(S)):\n",
    "    for j in range(i+1, len(S)+1):\n",
    "        result.add(S[i:j])\n",
    "print(len(result))"
   ]
  }
 ],
 "metadata": {
  "kernelspec": {
   "display_name": "base",
   "language": "python",
   "name": "python3"
  },
  "language_info": {
   "codemirror_mode": {
    "name": "ipython",
    "version": 3
   },
   "file_extension": ".py",
   "mimetype": "text/x-python",
   "name": "python",
   "nbconvert_exporter": "python",
   "pygments_lexer": "ipython3",
   "version": "3.10.9"
  }
 },
 "nbformat": 4,
 "nbformat_minor": 2
}
