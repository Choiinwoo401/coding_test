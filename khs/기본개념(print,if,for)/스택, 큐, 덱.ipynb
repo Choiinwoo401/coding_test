{
 "cells": [
  {
   "cell_type": "markdown",
   "metadata": {},
   "source": [
    "28278 : 스택 2"
   ]
  },
  {
   "cell_type": "code",
   "execution_count": 5,
   "metadata": {},
   "outputs": [
    {
     "name": "stdout",
     "output_type": "stream",
     "text": [
      "1\n",
      "2\n",
      "5\n",
      "3\n",
      "3\n",
      "-1\n",
      "-1\n"
     ]
    }
   ],
   "source": [
    "import sys\n",
    "input = sys.stdin.readline\n",
    "N = int(input())\n",
    "stack = []\n",
    "for i in range(N):\n",
    "    a = input().split()\n",
    "    if a[0] == '1':\n",
    "        stack.append(a[1])\n",
    "    elif a[0] == '2':\n",
    "        if stack :\n",
    "            print(stack.pop())\n",
    "        else:\n",
    "            print(-1)\n",
    "    elif a[0] == '3':\n",
    "        print(len(stack))\n",
    "    elif a[0] == '4':\n",
    "        if stack:\n",
    "            print(0)\n",
    "        else:\n",
    "            print(1)\n",
    "    else:\n",
    "        if stack:\n",
    "            print(stack[-1])\n",
    "        else:\n",
    "            print(-1)"
   ]
  },
  {
   "cell_type": "markdown",
   "metadata": {},
   "source": [
    "10773 : 제로"
   ]
  },
  {
   "cell_type": "code",
   "execution_count": 7,
   "metadata": {},
   "outputs": [
    {
     "name": "stdout",
     "output_type": "stream",
     "text": [
      "7\n"
     ]
    }
   ],
   "source": [
    "import sys\n",
    "input = sys.stdin.readline\n",
    "K = int(input())\n",
    "stack = []\n",
    "for i in range(K):\n",
    "    a = int(input())\n",
    "    if a == 0:\n",
    "        stack.pop()\n",
    "    else:\n",
    "        stack.append(a)\n",
    "print(sum(stack))"
   ]
  },
  {
   "cell_type": "markdown",
   "metadata": {},
   "source": [
    "9012 : 괄호"
   ]
  },
  {
   "cell_type": "code",
   "execution_count": 15,
   "metadata": {},
   "outputs": [
    {
     "name": "stdout",
     "output_type": "stream",
     "text": [
      "NO\n",
      "NO\n",
      "YES\n",
      "NO\n",
      "YES\n",
      "NO\n"
     ]
    }
   ],
   "source": [
    "import sys\n",
    "input = sys.stdin.readline\n",
    "T = int(input().strip())\n",
    "for i in range(T):\n",
    "    a = input().strip()\n",
    "    sum = 0\n",
    "    for j in a:\n",
    "        if j == '(':\n",
    "            sum += 1\n",
    "        else:\n",
    "            sum -= 1\n",
    "\n",
    "        if sum < 0:\n",
    "            print('NO')\n",
    "            break\n",
    "    if sum > 0:\n",
    "        print('NO')\n",
    "    elif sum == 0:\n",
    "        print('YES')"
   ]
  },
  {
   "cell_type": "markdown",
   "metadata": {},
   "source": [
    "4949 : 균형잡힌 세상"
   ]
  },
  {
   "cell_type": "code",
   "execution_count": null,
   "metadata": {},
   "outputs": [],
   "source": [
    "import sys\n",
    "input = sys.stdin.readline\n",
    "while True:\n",
    "    a = input().rstrip()\n",
    "    stack = []\n",
    "    if a == '.':\n",
    "        break\n",
    "    else:\n",
    "        for i in a:\n",
    "            if i == '(' or i == '[':\n",
    "                stack.append(i)\n",
    "            elif i == ']':\n",
    "                if len(stack) != 0 and stack[-1] == '[':\n",
    "                    stack.pop()\n",
    "                else:\n",
    "                    stack.append(']')\n",
    "                    break\n",
    "            elif i == ')':\n",
    "                if len(stack) != 0 and stack[-1] == '(':\n",
    "                    stack.pop()\n",
    "                else:\n",
    "                    stack.append(')')\n",
    "                    break\n",
    "        if len(stack) == 0:\n",
    "            print('yes')\n",
    "        else:\n",
    "            print('no')"
   ]
  },
  {
   "cell_type": "markdown",
   "metadata": {},
   "source": [
    "12789 : 도키도키 간식드리미"
   ]
  },
  {
   "cell_type": "code",
   "execution_count": 27,
   "metadata": {},
   "outputs": [
    {
     "name": "stdout",
     "output_type": "stream",
     "text": [
      "Nice\n"
     ]
    }
   ],
   "source": [
    "import sys\n",
    "input = sys.stdin.readline\n",
    "N = int(input())\n",
    "alreadyline = list(map(int, input().split()))\n",
    "stackline = []\n",
    "nowturn = 1\n",
    "for i in alreadyline:\n",
    "    stackline.append(i)\n",
    "    while stackline and stackline[-1] == nowturn:\n",
    "        stackline.pop()\n",
    "        nowturn += 1\n",
    "if stackline:\n",
    "    print('Sad')\n",
    "else:\n",
    "    print('Nice')"
   ]
  },
  {
   "cell_type": "markdown",
   "metadata": {},
   "source": [
    "18258 : 큐 2"
   ]
  },
  {
   "cell_type": "code",
   "execution_count": null,
   "metadata": {},
   "outputs": [],
   "source": [
    "import sys\n",
    "from collections import deque\n",
    "input = sys.stdin.readline\n",
    "N = int(input())\n",
    "queue1 = deque([])\n",
    "for i in range(N):\n",
    "    order = input().rstrip()\n",
    "    if order == 'pop':\n",
    "        if len(queue1) == 0:\n",
    "            print(-1)\n",
    "        else:\n",
    "            print(queue1[0])\n",
    "            queue1.popleft()\n",
    "    elif order == 'size':\n",
    "        print(len(queue1))\n",
    "    elif order == 'empty':\n",
    "        if len(queue1) == 0:\n",
    "            print(1)\n",
    "        else:\n",
    "            print(0)\n",
    "    elif order == 'front':\n",
    "        if len(queue1) == 0:\n",
    "            print(-1)\n",
    "        else:\n",
    "            print(queue1[0])\n",
    "    elif order == 'back':\n",
    "        if len(queue1) == 0:\n",
    "            print(-1)\n",
    "        else:\n",
    "            print(queue1[-1])\n",
    "    else:\n",
    "        order = order.split()\n",
    "        queue1.append(int(order[1]))"
   ]
  },
  {
   "cell_type": "markdown",
   "metadata": {},
   "source": [
    "2164 : 카드 2"
   ]
  },
  {
   "cell_type": "code",
   "execution_count": 14,
   "metadata": {},
   "outputs": [
    {
     "name": "stdout",
     "output_type": "stream",
     "text": [
      "4\n"
     ]
    }
   ],
   "source": [
    "import sys\n",
    "input = sys.stdin.readline\n",
    "from collections import deque\n",
    "N = int(input())\n",
    "queue1 = deque([])\n",
    "for i in range(1,N+1):\n",
    "    queue1.append(i)\n",
    "while len(queue1) > 1:\n",
    "    queue1.popleft()\n",
    "    queue1.append(queue1[0])\n",
    "    queue1.popleft()\n",
    "print(queue1[0])"
   ]
  },
  {
   "cell_type": "markdown",
   "metadata": {},
   "source": [
    "11866 : 요세푸스 문제 0"
   ]
  },
  {
   "cell_type": "code",
   "execution_count": 1,
   "metadata": {},
   "outputs": [
    {
     "name": "stdout",
     "output_type": "stream",
     "text": [
      "<3, 6, 2, 7, 5, 1, 4>\n"
     ]
    }
   ],
   "source": [
    "import sys\n",
    "input = sys.stdin.readline\n",
    "N, K = map(int, input().split())\n",
    "from collections import deque\n",
    "queue1 = [i for i in range(1, N+1)]\n",
    "number = 0\n",
    "result = []\n",
    "while queue1:\n",
    "    number += K-1\n",
    "    if number >= len(queue1):\n",
    "        number %= len(queue1)\n",
    "    result.append(str(queue1.pop(number)))\n",
    "print('<', ', '.join(result), '>', sep='')"
   ]
  },
  {
   "cell_type": "markdown",
   "metadata": {},
   "source": [
    "28279 : 덱 2"
   ]
  },
  {
   "cell_type": "code",
   "execution_count": 4,
   "metadata": {},
   "outputs": [
    {
     "name": "stdout",
     "output_type": "stream",
     "text": [
      "5\n"
     ]
    }
   ],
   "source": [
    "from collections import deque\n",
    "\n",
    "N = int(input())\n",
    "deq1 = deque()\n",
    "\n",
    "for i in range(N):\n",
    "    order = input().split()\n",
    "    O = int(order[0])\n",
    "    if O == 1:\n",
    "        deq1.appendleft(order[1])\n",
    "    elif O == 2:\n",
    "        deq1.append(order[1])\n",
    "    elif O == 3:\n",
    "        if len(deq1) >= 1:\n",
    "            print(deq1.popleft())\n",
    "        else:\n",
    "            print(-1)\n",
    "    elif O == 4:\n",
    "        if len(deq1) >= 1:\n",
    "            print(deq1.pop())\n",
    "        else:\n",
    "            print(-1)\n",
    "    elif O == 5:\n",
    "        print(len(deq1))\n",
    "    elif O == 6:\n",
    "        if len(deq1) == 0:\n",
    "            print(1)\n",
    "        else:\n",
    "            print(0)\n",
    "    elif O == 7:\n",
    "        if len(deq1) >= 1:\n",
    "            print(deq1[0])\n",
    "        else:\n",
    "            print(-1)\n",
    "    elif O == 8:\n",
    "        if len(deq1) >= 1:\n",
    "            print(deq1[-1])\n",
    "        else:\n",
    "            print(-1)"
   ]
  },
  {
   "cell_type": "markdown",
   "metadata": {},
   "source": [
    "2346 : 풍선 터뜨리기"
   ]
  },
  {
   "cell_type": "code",
   "execution_count": 8,
   "metadata": {},
   "outputs": [
    {
     "name": "stdout",
     "output_type": "stream",
     "text": [
      "1 4 5 3 2 "
     ]
    }
   ],
   "source": [
    "import sys\n",
    "input = sys.stdin.readline\n",
    "from collections import deque\n",
    "N = int(input())\n",
    "deq1 = deque(enumerate(map(int, input().split()), start = 1))\n",
    "for i in range(N):\n",
    "    deq2 = deq1.popleft()\n",
    "    print(deq2[0], end=' ')\n",
    "    if deq2[1] > 0:\n",
    "        deq1.rotate(-(deq2[1] - 1))\n",
    "    else:\n",
    "        deq1.rotate(-deq2[1])"
   ]
  },
  {
   "cell_type": "markdown",
   "metadata": {},
   "source": [
    "24511 : queuestack"
   ]
  },
  {
   "cell_type": "code",
   "execution_count": 10,
   "metadata": {},
   "outputs": [
    {
     "name": "stdout",
     "output_type": "stream",
     "text": [
      "4 1 2 "
     ]
    }
   ],
   "source": [
    "import sys\n",
    "input = sys.stdin.readline\n",
    "from collections import deque\n",
    "N = int(input())\n",
    "A = list(map(int, input().split()))\n",
    "B = list(map(int, input().split()))\n",
    "M = int(input())\n",
    "C = list(map(int, input().split()))\n",
    "result = deque()\n",
    "\n",
    "for i in range(N):\n",
    "    if A[i] == 0:\n",
    "        result.appendleft(B[i])\n",
    "\n",
    "for j in range(M):\n",
    "    result.append(C[j])\n",
    "    print(result.popleft(), end = ' ')"
   ]
  }
 ],
 "metadata": {
  "kernelspec": {
   "display_name": "base",
   "language": "python",
   "name": "python3"
  },
  "language_info": {
   "codemirror_mode": {
    "name": "ipython",
    "version": 3
   },
   "file_extension": ".py",
   "mimetype": "text/x-python",
   "name": "python",
   "nbconvert_exporter": "python",
   "pygments_lexer": "ipython3",
   "version": "3.10.9"
  }
 },
 "nbformat": 4,
 "nbformat_minor": 2
}
