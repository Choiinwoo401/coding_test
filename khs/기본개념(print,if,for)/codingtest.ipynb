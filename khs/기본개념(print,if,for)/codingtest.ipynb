{
 "cells": [
  {
   "cell_type": "code",
   "execution_count": 14,
   "metadata": {},
   "outputs": [
    {
     "name": "stdout",
     "output_type": "stream",
     "text": [
      "0\n"
     ]
    }
   ],
   "source": [
    "a = int(input())\n",
    "if ((a%4 == 0) and (a%100 != 0)):\n",
    "    print(\"1\")\n",
    "elif (a%400 == 0):\n",
    "    print(\"1\")\n",
    "else :\n",
    "    print(\"0\")\n"
   ]
  },
  {
   "cell_type": "code",
   "execution_count": 16,
   "metadata": {},
   "outputs": [
    {
     "name": "stdout",
     "output_type": "stream",
     "text": [
      "4\n"
     ]
    }
   ],
   "source": [
    "a = int(input())\n",
    "b = int(input())\n",
    "if (a>0):\n",
    "    if (b>0):\n",
    "        print('1')\n",
    "    elif (b<0):\n",
    "        print('4')\n",
    "elif (a<0):\n",
    "    if (b>0):\n",
    "        print('2')\n",
    "    elif (b<0):\n",
    "        print('3')"
   ]
  },
  {
   "cell_type": "code",
   "execution_count": 32,
   "metadata": {},
   "outputs": [
    {
     "name": "stdout",
     "output_type": "stream",
     "text": [
      "12 0\n"
     ]
    }
   ],
   "source": [
    "a, b = map(int, input().split())\n",
    "if (b<45):\n",
    "    if(a==0):\n",
    "        c = 23\n",
    "        d = b+15\n",
    "    else:\n",
    "        c = a-1\n",
    "        d = b+15\n",
    "else:\n",
    "    c = a\n",
    "    d = b-45\n",
    "\n",
    "print(c, d)"
   ]
  },
  {
   "cell_type": "code",
   "execution_count": 38,
   "metadata": {},
   "outputs": [
    {
     "name": "stdout",
     "output_type": "stream",
     "text": [
      "0 13\n"
     ]
    }
   ],
   "source": [
    "a, b = map(int, input().split())\n",
    "c = int(input())\n",
    "if (c>60):\n",
    "    a2 = (a+(c//60))\n",
    "    b2 = (b+(c%60))\n",
    "\n",
    "else:\n",
    "    a2 = a\n",
    "    b2 = b + c\n",
    "\n",
    "if (b2>=60):\n",
    "    b2-=60\n",
    "    a2+=1\n",
    "if (a2>=24):\n",
    "    a2-=24\n",
    "\n",
    "print(a2,b2)"
   ]
  },
  {
   "cell_type": "code",
   "execution_count": 41,
   "metadata": {},
   "outputs": [
    {
     "name": "stdout",
     "output_type": "stream",
     "text": [
      "600\n"
     ]
    }
   ],
   "source": [
    "a, b, c = map(int, input().split())\n",
    "if (a==b==c):\n",
    "    d = 10000+a*1000\n",
    "elif((a==b)or(b==c)or(a==c)):\n",
    "    if (a==b) :\n",
    "        d = 1000+a*100\n",
    "    elif (b==c):\n",
    "        d = 1000+b*100\n",
    "    else:\n",
    "        d = 1000+c*100\n",
    "else :\n",
    "    if (a<b):\n",
    "        if (b<c):\n",
    "            d = c*100\n",
    "        else:\n",
    "            d = b*100\n",
    "    elif (a>b):\n",
    "        if (a>c):\n",
    "            d = a*100\n",
    "        else:\n",
    "            d = c*100\n",
    "\n",
    "print (d)"
   ]
  }
 ],
 "metadata": {
  "kernelspec": {
   "display_name": "base",
   "language": "python",
   "name": "python3"
  },
  "language_info": {
   "codemirror_mode": {
    "name": "ipython",
    "version": 3
   },
   "file_extension": ".py",
   "mimetype": "text/x-python",
   "name": "python",
   "nbconvert_exporter": "python",
   "pygments_lexer": "ipython3",
   "version": "3.10.9"
  }
 },
 "nbformat": 4,
 "nbformat_minor": 2
}
