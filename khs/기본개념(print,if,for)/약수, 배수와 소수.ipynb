{
 "cells": [
  {
   "cell_type": "markdown",
   "metadata": {},
   "source": [
    "5086 : 배수와 약수"
   ]
  },
  {
   "cell_type": "code",
   "execution_count": 10,
   "metadata": {},
   "outputs": [
    {
     "name": "stdout",
     "output_type": "stream",
     "text": [
      "factor\n",
      "multiple\n",
      "neither\n"
     ]
    }
   ],
   "source": [
    "A = B = 1\n",
    "while 1:\n",
    "    A, B = map(int, input().split())\n",
    "    if A==B==0:\n",
    "        break\n",
    "    elif B%A == 0:\n",
    "        print('factor')\n",
    "    elif A%B == 0:\n",
    "        print('multiple')\n",
    "    else:\n",
    "        print('neither')"
   ]
  },
  {
   "cell_type": "markdown",
   "metadata": {},
   "source": [
    "2501 : 약수 구하기"
   ]
  },
  {
   "cell_type": "code",
   "execution_count": 31,
   "metadata": {},
   "outputs": [
    {
     "name": "stdout",
     "output_type": "stream",
     "text": [
      "1\n"
     ]
    }
   ],
   "source": [
    "N, K = map(int, input().split())\n",
    "divisor = []\n",
    "for i in range(1, int(N**(1/2))+1):\n",
    "    if (N % i == 0):\n",
    "        divisor.append(i)\n",
    "        if ((i**2) != N):\n",
    "            divisor.append(N // i)\n",
    "if len(divisor) < K:\n",
    "    print(0)\n",
    "else:\n",
    "    divisor.sort()\n",
    "    print(divisor[K-1])"
   ]
  },
  {
   "cell_type": "markdown",
   "metadata": {},
   "source": [
    "9506 : 약수들의 합"
   ]
  },
  {
   "cell_type": "code",
   "execution_count": 50,
   "metadata": {},
   "outputs": [
    {
     "name": "stdout",
     "output_type": "stream",
     "text": [
      "6 = 1 + 2 + 3\n",
      "12 is NOT perfect.\n",
      "28 = 1 + 2 + 4 + 7 + 14\n"
     ]
    }
   ],
   "source": [
    "n = 1\n",
    "while 1:\n",
    "    n = int(input())\n",
    "    if (n != -1):\n",
    "        divisor = []\n",
    "        for i in range(1, int(n**(1/2))+1):\n",
    "            if (n % i == 0):\n",
    "                divisor.append(i)\n",
    "                if ((i**2) != n):\n",
    "                    divisor.append(n//i)\n",
    "            divisor.sort()\n",
    "        divisor.pop(-1)\n",
    "        if(n == sum(divisor)):\n",
    "            print(n, end = ' = ')\n",
    "            print(*divisor,sep=' + ')\n",
    "        else:\n",
    "            print(f'{n} is NOT perfect.')\n",
    "    else:\n",
    "        break"
   ]
  },
  {
   "cell_type": "markdown",
   "metadata": {},
   "source": [
    "1978 : 소수 찾기"
   ]
  },
  {
   "cell_type": "code",
   "execution_count": 210,
   "metadata": {},
   "outputs": [
    {
     "name": "stdout",
     "output_type": "stream",
     "text": [
      "1\n"
     ]
    }
   ],
   "source": [
    "N = int(input())\n",
    "array1 = list(map(int, input().split()))\n",
    "result = 0\n",
    "for i in range(N):\n",
    "    count = 0\n",
    "    if array1[i] == 1:\n",
    "        continue\n",
    "    for j in range(2, int(array1[i]**(1/2))+1):        \n",
    "        if array1[i] % j == 0:\n",
    "            count += 1\n",
    "    if count == 0:\n",
    "        result += 1\n",
    "print(result)"
   ]
  },
  {
   "cell_type": "markdown",
   "metadata": {},
   "source": [
    "2581 : 소수"
   ]
  },
  {
   "cell_type": "code",
   "execution_count": 229,
   "metadata": {},
   "outputs": [
    {
     "name": "stdout",
     "output_type": "stream",
     "text": [
      "10\n",
      "2\n"
     ]
    }
   ],
   "source": [
    "M = int(input())\n",
    "N = int(input())\n",
    "prime_list = []\n",
    "def primenumber(x):\n",
    "    for i in range(2, int(x**(1/2))+1):\n",
    "        if x % i == 0:\n",
    "            return False\n",
    "    return True\n",
    "for i in range(M,N+1):\n",
    "    if i == 1:\n",
    "        continue\n",
    "    elif(primenumber(i) == True):\n",
    "        prime_list.append(i)\n",
    "if(prime_list == []):\n",
    "    print('-1')\n",
    "else:\n",
    "    print(sum(prime_list))\n",
    "    print(prime_list[0])"
   ]
  },
  {
   "cell_type": "markdown",
   "metadata": {},
   "source": [
    "11653 : 소인수 분해"
   ]
  },
  {
   "cell_type": "code",
   "execution_count": 14,
   "metadata": {},
   "outputs": [
    {
     "name": "stdout",
     "output_type": "stream",
     "text": [
      "2\n"
     ]
    }
   ],
   "source": [
    "N = int(input())\n",
    "if N == 1:\n",
    "    print('')\n",
    "# for i in range(2, N)일 경우 N이 2일때 틀림\n",
    "for i in range(2, N+1):\n",
    "    if N % i == 0:\n",
    "        while N % i == 0:\n",
    "            print(i)\n",
    "            N = N / i"
   ]
  }
 ],
 "metadata": {
  "kernelspec": {
   "display_name": "base",
   "language": "python",
   "name": "python3"
  },
  "language_info": {
   "codemirror_mode": {
    "name": "ipython",
    "version": 3
   },
   "file_extension": ".py",
   "mimetype": "text/x-python",
   "name": "python",
   "nbconvert_exporter": "python",
   "pygments_lexer": "ipython3",
   "version": "3.10.9"
  }
 },
 "nbformat": 4,
 "nbformat_minor": 2
}
