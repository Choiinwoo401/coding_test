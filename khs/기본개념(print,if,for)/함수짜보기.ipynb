{
 "cells": [
  {
   "cell_type": "markdown",
   "metadata": {},
   "source": [
    "가로, 세로 길이 n을 입력받아\n",
    "다이아몬드 형태로 * 출력(내부가 비어있는 형태와 꽉 찬 형태 두가지)"
   ]
  },
  {
   "cell_type": "code",
   "execution_count": 13,
   "metadata": {},
   "outputs": [
    {
     "name": "stdout",
     "output_type": "stream",
     "text": [
      "   *   \n",
      "  ***  \n",
      " ***** \n",
      "*******\n",
      " ***** \n",
      "  ***  \n",
      "   *   \n"
     ]
    }
   ],
   "source": [
    "n = int(input())\n",
    "for i in range(n):\n",
    "  A = (2*(i+1)-1)\n",
    "  # A = 1,3,5,7,9,... => 2i+1 \n",
    "  if (A<(n-1)):\n",
    "    print(' '*((n-A)//2) + '*'*A + ' '*((n-A)//2))\n",
    "  else:\n",
    "    print(' '*((n-(2*n-A))//2) + '*'*(2*n-A) + ' '*((n-(2*n-A))//2))"
   ]
  },
  {
   "cell_type": "markdown",
   "metadata": {},
   "source": [
    "내부가 비어있는 형태"
   ]
  },
  {
   "cell_type": "code",
   "execution_count": 12,
   "metadata": {},
   "outputs": [
    {
     "name": "stdout",
     "output_type": "stream",
     "text": [
      "   *   \n",
      "  * *  \n",
      " *   * \n",
      "*     *\n",
      " *   * \n",
      "  * *  \n",
      "   *   \n"
     ]
    }
   ],
   "source": [
    "n = int(input())\n",
    "for i in range(n):\n",
    "  A = (2*(i+1)-1)\n",
    "  # A = 1,3,5,7,9,... => 2i+1 \n",
    "  if (A<(n-1)):\n",
    "    if (A==1):\n",
    "      print(' '*((n-A)//2) + '*' + ' '*((n-A)//2))\n",
    "    else:\n",
    "      print(' '*((n-A)//2) + '*' + ' '*(A-2) + '*' + ' '*((n-A)//2))\n",
    "  else:\n",
    "    if (i+1==n):\n",
    "      print(' '*((n-(2*n-A))//2) + '*' + ' '*((n-(2*n-A))//2))\n",
    "    else:\n",
    "      print(' '*((n-(2*n-A))//2) + '*' + ' '*(2*n-A-2) + '*' + ' '*((n-(2*n-A))//2))"
   ]
  },
  {
   "cell_type": "markdown",
   "metadata": {},
   "source": [
    "이를 함수화?"
   ]
  },
  {
   "cell_type": "code",
   "execution_count": 16,
   "metadata": {},
   "outputs": [
    {
     "name": "stdout",
     "output_type": "stream",
     "text": [
      "   *   \n",
      "  ***  \n",
      " ***** \n",
      "*******\n",
      " ***** \n",
      "  ***  \n",
      "   *   \n",
      "  *  \n",
      " * * \n",
      "*   *\n",
      " * * \n",
      "  *  \n"
     ]
    }
   ],
   "source": [
    "def star(n):\n",
    "    for i in range(n):\n",
    "        A = (2*(i+1)-1)\n",
    "        if (A<(n-1)):\n",
    "            print(' '*((n-A)//2) + '*'*A + ' '*((n-A)//2))\n",
    "        else:\n",
    "            print(' '*((n-(2*n-A))//2) + '*'*(2*n-A) + ' '*((n-(2*n-A))//2))\n",
    "            \n",
    "def star2(n):\n",
    "    for i in range(n):\n",
    "        A = (2*(i+1)-1)\n",
    "        # A = 1,3,5,7,9,... => 2i+1 \n",
    "        if (A<(n-1)):\n",
    "            if (A==1):\n",
    "                print(' '*((n-A)//2) + '*' + ' '*((n-A)//2))\n",
    "            else:\n",
    "                print(' '*((n-A)//2) + '*' + ' '*(A-2) + '*' + ' '*((n-A)//2))\n",
    "        else:\n",
    "            if (i+1==n):\n",
    "                print(' '*((n-(2*n-A))//2) + '*' + ' '*((n-(2*n-A))//2))\n",
    "            else:\n",
    "                print(' '*((n-(2*n-A))//2) + '*' + ' '*(2*n-A-2) + '*' + ' '*((n-(2*n-A))//2))\n",
    "\n",
    "star(7)\n",
    "\n",
    "star2(5)"
   ]
  }
 ],
 "metadata": {
  "kernelspec": {
   "display_name": "base",
   "language": "python",
   "name": "python3"
  },
  "language_info": {
   "codemirror_mode": {
    "name": "ipython",
    "version": 3
   },
   "file_extension": ".py",
   "mimetype": "text/x-python",
   "name": "python",
   "nbconvert_exporter": "python",
   "pygments_lexer": "ipython3",
   "version": "3.10.9"
  }
 },
 "nbformat": 4,
 "nbformat_minor": 2
}
