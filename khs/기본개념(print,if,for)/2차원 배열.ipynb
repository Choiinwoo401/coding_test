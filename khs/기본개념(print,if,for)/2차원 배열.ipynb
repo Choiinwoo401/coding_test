{
 "cells": [
  {
   "cell_type": "markdown",
   "metadata": {},
   "source": [
    "2738 : 행렬 덧셈"
   ]
  },
  {
   "cell_type": "code",
   "execution_count": 11,
   "metadata": {},
   "outputs": [
    {
     "name": "stdout",
     "output_type": "stream",
     "text": [
      "4 4 4\n",
      "6 6 6\n",
      "5 6 100\n"
     ]
    }
   ],
   "source": [
    "n, m = map(int, input().split())\n",
    "array1 = []\n",
    "array2 = []\n",
    "for i in range(n):\n",
    "    array1.append(list(map(int, input().split())))\n",
    "for i in range(n):\n",
    "    array2.append(list(map(int, input().split())))\n",
    "for i in range(n):\n",
    "    array3 = []\n",
    "    for j in range(m):\n",
    "        array3.append(array1[i][j] + array2[i][j])\n",
    "    print(*array3)"
   ]
  },
  {
   "cell_type": "code",
   "execution_count": 12,
   "metadata": {},
   "outputs": [
    {
     "name": "stdout",
     "output_type": "stream",
     "text": [
      "4 4 4 \n",
      "6 6 6 \n",
      "5 6 100 \n"
     ]
    }
   ],
   "source": [
    "n, m = map(int, input().split())\n",
    "array1 = []\n",
    "array2 = []\n",
    "array3 = []\n",
    "for i in range(n):\n",
    "    array1.append(list(map(int, input().split())))\n",
    "for i in range(n):\n",
    "    array2.append(list(map(int, input().split())))\n",
    "for i in range(n):\n",
    "    for j in range(m):\n",
    "        print(array1[i][j] + array2[i][j],end = ' ')\n",
    "    print()"
   ]
  },
  {
   "cell_type": "markdown",
   "metadata": {},
   "source": [
    "2566 : 최댓값"
   ]
  },
  {
   "cell_type": "code",
   "execution_count": 2,
   "metadata": {},
   "outputs": [
    {
     "name": "stdout",
     "output_type": "stream",
     "text": [
      "90\n",
      "5 7\n"
     ]
    }
   ],
   "source": [
    "array1 = []\n",
    "for row in range(9):\n",
    "    array1.append(list(map(int, input().split())))\n",
    "maxvalue = max(map(max, array1))\n",
    "print(maxvalue)\n",
    "for row in range(9):\n",
    "    for col in range(9):\n",
    "        if array1[row][col] == maxvalue:\n",
    "            maxrow, maxcol = row+1, col+1\n",
    "print(maxrow, maxcol)"
   ]
  },
  {
   "cell_type": "markdown",
   "metadata": {},
   "source": [
    "10798 : 세로읽기"
   ]
  },
  {
   "cell_type": "code",
   "execution_count": 13,
   "metadata": {},
   "outputs": [
    {
     "name": "stdout",
     "output_type": "stream",
     "text": [
      "[['1', '2', '3', '4', '5'], ['6', '7', '8', '9', '1', '0'], ['1', '2', '1', '2'], ['1', '3', '1', '3'], ['1', '5', '1', '5']]\n"
     ]
    }
   ],
   "source": [
    "array1 = []\n",
    "for i in range(5):\n",
    "    array1.append(list(input()))\n",
    "for i in array1:\n",
    "    \n",
    "\n",
    "print(array1)"
   ]
  },
  {
   "cell_type": "code",
   "execution_count": 54,
   "metadata": {},
   "outputs": [
    {
     "name": "stdout",
     "output_type": "stream",
     "text": [
      "[['A', 'A', 'B', 'C', 'D', 'D'], ['a', 'f', 'z', 'z'], ['0', '9', '1', '2', '1'], ['a', '8', 'E', 'W', 'g', '6'], ['P', '5', 'h', '3', 'k', 'x']]\n",
      "[['A', 'a', '0', 'a', 'P'], ['A', 'f', '9', '8', '5'], ['B', 'z', '1', 'E', 'h'], ['C', 'z', '2', 'W', '3']]\n",
      "Aa0aP\n",
      "Af985\n",
      "Bz1Eh\n",
      "Cz2W3\n"
     ]
    }
   ],
   "source": [
    "array1 = []\n",
    "for i in range(5):\n",
    "    array1.append(list(input()))\n",
    "print(array1)\n",
    "array2 = list(map(list, zip(*array1)))\n",
    "print(array2)\n",
    "for row in range(len(array2)):\n",
    "    for col in range(len(array2[row])):\n",
    "        print(array2[row][col], end = '')\n",
    "    print()"
   ]
  }
 ],
 "metadata": {
  "kernelspec": {
   "display_name": "base",
   "language": "python",
   "name": "python3"
  },
  "language_info": {
   "codemirror_mode": {
    "name": "ipython",
    "version": 3
   },
   "file_extension": ".py",
   "mimetype": "text/x-python",
   "name": "python",
   "nbconvert_exporter": "python",
   "pygments_lexer": "ipython3",
   "version": "3.10.9"
  }
 },
 "nbformat": 4,
 "nbformat_minor": 2
}
