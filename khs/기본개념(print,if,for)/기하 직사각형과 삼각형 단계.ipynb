{
 "cells": [
  {
   "cell_type": "markdown",
   "metadata": {},
   "source": [
    "27323 : 직사각형"
   ]
  },
  {
   "cell_type": "code",
   "execution_count": 1,
   "metadata": {},
   "outputs": [
    {
     "name": "stdout",
     "output_type": "stream",
     "text": [
      "6\n"
     ]
    }
   ],
   "source": [
    "A = int(input())\n",
    "B = int(input())\n",
    "print(A*B)"
   ]
  },
  {
   "cell_type": "markdown",
   "metadata": {},
   "source": [
    "1085 : 직사각형에서 탈출"
   ]
  },
  {
   "cell_type": "code",
   "execution_count": 13,
   "metadata": {},
   "outputs": [
    {
     "name": "stdout",
     "output_type": "stream",
     "text": [
      "1\n"
     ]
    }
   ],
   "source": [
    "x, y, w, h = map(int, input().split())\n",
    "list1 = [x, y, w-x, h-y]\n",
    "list1.sort()\n",
    "print(list1[0])"
   ]
  },
  {
   "cell_type": "markdown",
   "metadata": {},
   "source": [
    "3009 : 네 번째 점"
   ]
  },
  {
   "cell_type": "code",
   "execution_count": 17,
   "metadata": {},
   "outputs": [
    {
     "name": "stdout",
     "output_type": "stream",
     "text": [
      "30 10\n"
     ]
    }
   ],
   "source": [
    "x1, y1 = map(int,input().split())\n",
    "x2, y2 = map(int,input().split())\n",
    "x3, y3 = map(int,input().split())\n",
    "if (x1 == x2):\n",
    "    x4 = x3\n",
    "elif (x1 == x3):\n",
    "    x4 = x2\n",
    "else:\n",
    "    x4 = x1\n",
    "if (y1 == y2):\n",
    "    y4 = y3\n",
    "elif (y1 == y3):\n",
    "    y4 = y2\n",
    "else:\n",
    "    y4 = y1\n",
    "print(f'{x4} {y4}')"
   ]
  },
  {
   "cell_type": "markdown",
   "metadata": {},
   "source": [
    "15894 : 수학은 체육 과목입니다"
   ]
  },
  {
   "cell_type": "code",
   "execution_count": 20,
   "metadata": {},
   "outputs": [
    {
     "name": "stdout",
     "output_type": "stream",
     "text": [
      "12\n"
     ]
    }
   ],
   "source": [
    "n = int(input())\n",
    "print(n*4)"
   ]
  },
  {
   "cell_type": "markdown",
   "metadata": {},
   "source": [
    "9063 : 대지"
   ]
  },
  {
   "cell_type": "code",
   "execution_count": 26,
   "metadata": {},
   "outputs": [
    {
     "name": "stdout",
     "output_type": "stream",
     "text": [
      "9\n"
     ]
    }
   ],
   "source": [
    "N = int(input())\n",
    "xlist = []\n",
    "ylist = []\n",
    "for i in range(N):\n",
    "    x, y = map(int,input().split())\n",
    "    xlist.append(x)\n",
    "    ylist.append(y)\n",
    "xlist.sort()\n",
    "ylist.sort()\n",
    "print((xlist[-1]-xlist[0])*(ylist[-1]-ylist[0]))"
   ]
  },
  {
   "cell_type": "markdown",
   "metadata": {},
   "source": [
    "10101 : 삼각형 외우기"
   ]
  },
  {
   "cell_type": "code",
   "execution_count": 1,
   "metadata": {},
   "outputs": [
    {
     "name": "stdout",
     "output_type": "stream",
     "text": [
      "Scalene\n"
     ]
    }
   ],
   "source": [
    "A = int(input())\n",
    "B = int(input())\n",
    "C = int(input())\n",
    "if(A+B+C!=180):\n",
    "    print('Error')\n",
    "elif(A==B==C):\n",
    "    print('Equilateral')\n",
    "elif((A==B)or(A==C)or(B==C)):\n",
    "    print('Isosceles')\n",
    "else:\n",
    "    print('Scalene')"
   ]
  },
  {
   "cell_type": "markdown",
   "metadata": {},
   "source": [
    "5073 : 삼각형과 세 변"
   ]
  },
  {
   "cell_type": "code",
   "execution_count": 5,
   "metadata": {},
   "outputs": [
    {
     "name": "stdout",
     "output_type": "stream",
     "text": [
      "Equilateral\n",
      "Scalene\n",
      "Invalid\n",
      "Isosceles\n"
     ]
    }
   ],
   "source": [
    "while 1:\n",
    "    a,b,c = map(int,input().split())\n",
    "    if (a==b==c==0):\n",
    "        break\n",
    "    elif (a==b==c):\n",
    "        print('Equilateral')\n",
    "    elif(a>=(b+c))or(b>=(a+c))or(c>=(b+a)):\n",
    "        print('Invalid')\n",
    "    elif(a==b)or(a==c)or(b==c):\n",
    "        print('Isosceles')    \n",
    "    else:\n",
    "        print('Scalene')\n",
    "# Invalid가 우선권이 높아야함 ex) 12 1 1"
   ]
  },
  {
   "cell_type": "markdown",
   "metadata": {},
   "source": [
    "14215 : 세 막대"
   ]
  },
  {
   "cell_type": "code",
   "execution_count": 9,
   "metadata": {},
   "outputs": [
    {
     "name": "stdout",
     "output_type": "stream",
     "text": [
      "113\n"
     ]
    }
   ],
   "source": [
    "a, b, c = map(int,input().split())\n",
    "while 1:\n",
    "    if(a>=b+c):\n",
    "        a-=1\n",
    "    elif(b>=a+c):\n",
    "        b-=1\n",
    "    elif(c>=a+b):\n",
    "        c-=1\n",
    "    else:\n",
    "        print(a+b+c)\n",
    "        break"
   ]
  }
 ],
 "metadata": {
  "kernelspec": {
   "display_name": "base",
   "language": "python",
   "name": "python3"
  },
  "language_info": {
   "codemirror_mode": {
    "name": "ipython",
    "version": 3
   },
   "file_extension": ".py",
   "mimetype": "text/x-python",
   "name": "python",
   "nbconvert_exporter": "python",
   "pygments_lexer": "ipython3",
   "version": "3.10.9"
  }
 },
 "nbformat": 4,
 "nbformat_minor": 2
}
