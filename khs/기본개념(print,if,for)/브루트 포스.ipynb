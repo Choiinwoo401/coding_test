{
 "cells": [
  {
   "cell_type": "markdown",
   "metadata": {},
   "source": [
    "2798 : 블랙잭"
   ]
  },
  {
   "cell_type": "code",
   "execution_count": 6,
   "metadata": {},
   "outputs": [
    {
     "name": "stdout",
     "output_type": "stream",
     "text": [
      "21\n"
     ]
    }
   ],
   "source": [
    "N, M = map(int,input().split())\n",
    "array1 = list(map(int,input().split()))\n",
    "result = 0\n",
    "for i in range(N):\n",
    "    for j in range(i+1, N):\n",
    "        for k in range(j+1, N):\n",
    "            if array1[i] + array1[j] + array1[k] > M:\n",
    "                continue\n",
    "            else:\n",
    "                result = max(result, array1[i] + array1[j] + array1[k])\n",
    "print(result)"
   ]
  },
  {
   "cell_type": "markdown",
   "metadata": {},
   "source": [
    "2231 : 분해합"
   ]
  },
  {
   "cell_type": "code",
   "execution_count": 7,
   "metadata": {},
   "outputs": [
    {
     "name": "stdout",
     "output_type": "stream",
     "text": [
      "198\n"
     ]
    }
   ],
   "source": [
    "N = int(input())\n",
    "for i in range(1,N+1):\n",
    "    num = sum(map(int, str(i)))\n",
    "    num_sum = i + num\n",
    "    if num_sum == N:\n",
    "        print(i)\n",
    "        break\n",
    "    if i == N:\n",
    "        print(0)"
   ]
  },
  {
   "cell_type": "markdown",
   "metadata": {},
   "source": [
    "19532 : 수학은 비대면강의입니다"
   ]
  },
  {
   "cell_type": "code",
   "execution_count": 10,
   "metadata": {},
   "outputs": [
    {
     "name": "stdout",
     "output_type": "stream",
     "text": [
      "-1 2\n"
     ]
    }
   ],
   "source": [
    "a, b, c, d, e, f = map(int, input().split())\n",
    "for x in range(-999,1000):\n",
    "    for y in range(-999,1000):\n",
    "        if(a*x + b*y == c) and (d*x + e*y == f):\n",
    "            print(f'{x} {y}')"
   ]
  },
  {
   "cell_type": "markdown",
   "metadata": {},
   "source": [
    "1018 : 체스판 다시 칠하기"
   ]
  },
  {
   "cell_type": "code",
   "execution_count": 15,
   "metadata": {},
   "outputs": [
    {
     "name": "stdout",
     "output_type": "stream",
     "text": [
      "1\n"
     ]
    }
   ],
   "source": [
    "N, M = map(int, input().split())\n",
    "board = []\n",
    "for i in range(N):\n",
    "    board.append(input())\n",
    "result = []\n",
    "for i in range(N-7):\n",
    "    for j in range(M-7):\n",
    "        draw1 = 0\n",
    "        draw2 = 0\n",
    "        for a in range(i, i+8):\n",
    "            for b in range(j, j+8):\n",
    "                if (a + b) % 2 == 0:\n",
    "                    if board[a][b] != 'B':\n",
    "                        draw1+=1\n",
    "                    if board[a][b] != 'W':\n",
    "                        draw2+=1\n",
    "                else:\n",
    "                    if board[a][b] != 'W':\n",
    "                        draw1+=1\n",
    "                    if board[a][b] != 'B':\n",
    "                        draw2+=1\n",
    "        result.append(draw1)\n",
    "        result.append(draw2)\n",
    "print(min(result))"
   ]
  },
  {
   "cell_type": "markdown",
   "metadata": {},
   "source": [
    "1436 : 영화감독 숌"
   ]
  },
  {
   "cell_type": "code",
   "execution_count": 21,
   "metadata": {},
   "outputs": [
    {
     "name": "stdout",
     "output_type": "stream",
     "text": [
      "6660\n"
     ]
    }
   ],
   "source": [
    "N = int(input())\n",
    "count = 0\n",
    "result = 666\n",
    "while 1:\n",
    "    if '666' in str(result):\n",
    "        count += 1\n",
    "    if count == N:\n",
    "        break\n",
    "    result += 1\n",
    "print(result)"
   ]
  },
  {
   "cell_type": "markdown",
   "metadata": {},
   "source": [
    "2839 : 설탕 배달"
   ]
  },
  {
   "cell_type": "code",
   "execution_count": 8,
   "metadata": {},
   "outputs": [
    {
     "name": "stdout",
     "output_type": "stream",
     "text": [
      "-1\n"
     ]
    }
   ],
   "source": [
    "N = int(input())\n",
    "if N % 5 == 0:\n",
    "    print(N//5)\n",
    "else:\n",
    "    M = 0\n",
    "    while N > 0:\n",
    "        N -= 3\n",
    "        M += 1\n",
    "        if (N % 5) == 0:\n",
    "            M += N//5\n",
    "            print(M)\n",
    "            break\n",
    "        elif N == 1 or N == 2:\n",
    "            print(-1)\n",
    "            break\n",
    "        elif N == 0:\n",
    "            print(M)\n",
    "            break"
   ]
  }
 ],
 "metadata": {
  "kernelspec": {
   "display_name": "base",
   "language": "python",
   "name": "python3"
  },
  "language_info": {
   "codemirror_mode": {
    "name": "ipython",
    "version": 3
   },
   "file_extension": ".py",
   "mimetype": "text/x-python",
   "name": "python",
   "nbconvert_exporter": "python",
   "pygments_lexer": "ipython3",
   "version": "3.10.9"
  }
 },
 "nbformat": 4,
 "nbformat_minor": 2
}
